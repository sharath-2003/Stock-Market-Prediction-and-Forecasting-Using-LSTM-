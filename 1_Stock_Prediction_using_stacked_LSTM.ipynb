{
 "cells": [
  {
   "cell_type": "markdown",
   "metadata": {
    "id": "Sbu18Bu9MHv2"
   },
   "source": [
    "### Stock Market Prediction And Forecasting Using LSTM"
   ]
  },
  {
   "cell_type": "code",
   "execution_count": 177,
   "metadata": {},
   "outputs": [
    {
     "name": "stdout",
     "output_type": "stream",
     "text": [
      "Requirement already satisfied: scikit-learn in c:\\python311\\lib\\site-packages (1.3.0)\n",
      "Requirement already satisfied: numpy>=1.17.3 in c:\\python311\\lib\\site-packages (from scikit-learn) (1.25.1)\n",
      "Requirement already satisfied: scipy>=1.5.0 in c:\\python311\\lib\\site-packages (from scikit-learn) (1.11.2)\n",
      "Requirement already satisfied: joblib>=1.1.1 in c:\\python311\\lib\\site-packages (from scikit-learn) (1.3.2)\n",
      "Requirement already satisfied: threadpoolctl>=2.0.0 in c:\\python311\\lib\\site-packages (from scikit-learn) (3.2.0)\n"
     ]
    },
    {
     "name": "stderr",
     "output_type": "stream",
     "text": [
      "\n",
      "[notice] A new release of pip is available: 23.1.2 -> 24.0\n",
      "[notice] To update, run: python.exe -m pip install --upgrade pip\n"
     ]
    }
   ],
   "source": [
    "!pip install scikit-learn\n",
    "\n",
    "\n"
   ]
  },
  {
   "cell_type": "code",
   "execution_count": null,
   "metadata": {},
   "outputs": [],
   "source": [
    "pip install tensorflow"
   ]
  },
  {
   "cell_type": "code",
   "execution_count": null,
   "metadata": {},
   "outputs": [],
   "source": [
    "pip install --upgrade tensorflow"
   ]
  },
  {
   "cell_type": "code",
   "execution_count": 126,
   "metadata": {
    "id": "FdUYCHF2K_-F"
   },
   "outputs": [],
   "source": [
    "import pandas as pd\n",
    "import numpy as np\n",
    "import matplotlib.pyplot as plt\n",
    "from sklearn.preprocessing import MinMaxScaler\n",
    "import tensorflow"
   ]
  },
  {
   "cell_type": "code",
   "execution_count": 127,
   "metadata": {
    "colab": {
     "base_uri": "https://localhost:8080/",
     "height": 287
    },
    "id": "qw1pwHN0MHv7",
    "outputId": "297903a8-41e8-4e9b-f0f6-b0ba3583dedc"
   },
   "outputs": [],
   "source": [
    "df=pd.read_csv(\"C:\\\\Users\\\\ravip\\\\OneDrive\\\\Documents\\\\sem6\\\\EC460-deep learning and neural networks\\\\AAPL data.csv\")"
   ]
  },
  {
   "cell_type": "code",
   "execution_count": 128,
   "metadata": {
    "id": "z7EIWE-XMHv7"
   },
   "outputs": [
    {
     "data": {
      "text/html": [
       "<div>\n",
       "<style scoped>\n",
       "    .dataframe tbody tr th:only-of-type {\n",
       "        vertical-align: middle;\n",
       "    }\n",
       "\n",
       "    .dataframe tbody tr th {\n",
       "        vertical-align: top;\n",
       "    }\n",
       "\n",
       "    .dataframe thead th {\n",
       "        text-align: right;\n",
       "    }\n",
       "</style>\n",
       "<table border=\"1\" class=\"dataframe\">\n",
       "  <thead>\n",
       "    <tr style=\"text-align: right;\">\n",
       "      <th></th>\n",
       "      <th>Date</th>\n",
       "      <th>Open</th>\n",
       "      <th>High</th>\n",
       "      <th>Low</th>\n",
       "      <th>Close</th>\n",
       "      <th>Adj Close</th>\n",
       "      <th>Volume</th>\n",
       "    </tr>\n",
       "  </thead>\n",
       "  <tbody>\n",
       "    <tr>\n",
       "      <th>0</th>\n",
       "      <td>2018-12-13</td>\n",
       "      <td>42.622501</td>\n",
       "      <td>43.142502</td>\n",
       "      <td>42.387501</td>\n",
       "      <td>42.737499</td>\n",
       "      <td>41.019913</td>\n",
       "      <td>127594400</td>\n",
       "    </tr>\n",
       "    <tr>\n",
       "      <th>1</th>\n",
       "      <td>2018-12-14</td>\n",
       "      <td>42.250000</td>\n",
       "      <td>42.270000</td>\n",
       "      <td>41.320000</td>\n",
       "      <td>41.369999</td>\n",
       "      <td>39.707378</td>\n",
       "      <td>162814800</td>\n",
       "    </tr>\n",
       "    <tr>\n",
       "      <th>2</th>\n",
       "      <td>2018-12-17</td>\n",
       "      <td>41.362499</td>\n",
       "      <td>42.087502</td>\n",
       "      <td>40.682499</td>\n",
       "      <td>40.985001</td>\n",
       "      <td>39.337849</td>\n",
       "      <td>177151600</td>\n",
       "    </tr>\n",
       "    <tr>\n",
       "      <th>3</th>\n",
       "      <td>2018-12-18</td>\n",
       "      <td>41.345001</td>\n",
       "      <td>41.882500</td>\n",
       "      <td>41.097500</td>\n",
       "      <td>41.517502</td>\n",
       "      <td>39.848949</td>\n",
       "      <td>135366000</td>\n",
       "    </tr>\n",
       "    <tr>\n",
       "      <th>4</th>\n",
       "      <td>2018-12-19</td>\n",
       "      <td>41.500000</td>\n",
       "      <td>41.862499</td>\n",
       "      <td>39.772499</td>\n",
       "      <td>40.222500</td>\n",
       "      <td>38.605984</td>\n",
       "      <td>196189200</td>\n",
       "    </tr>\n",
       "  </tbody>\n",
       "</table>\n",
       "</div>"
      ],
      "text/plain": [
       "         Date       Open       High        Low      Close  Adj Close  \\\n",
       "0  2018-12-13  42.622501  43.142502  42.387501  42.737499  41.019913   \n",
       "1  2018-12-14  42.250000  42.270000  41.320000  41.369999  39.707378   \n",
       "2  2018-12-17  41.362499  42.087502  40.682499  40.985001  39.337849   \n",
       "3  2018-12-18  41.345001  41.882500  41.097500  41.517502  39.848949   \n",
       "4  2018-12-19  41.500000  41.862499  39.772499  40.222500  38.605984   \n",
       "\n",
       "      Volume  \n",
       "0  127594400  \n",
       "1  162814800  \n",
       "2  177151600  \n",
       "3  135366000  \n",
       "4  196189200  "
      ]
     },
     "execution_count": 128,
     "metadata": {},
     "output_type": "execute_result"
    }
   ],
   "source": [
    "df.head()"
   ]
  },
  {
   "cell_type": "code",
   "execution_count": 129,
   "metadata": {
    "id": "s9H3W8poMHv8"
   },
   "outputs": [
    {
     "data": {
      "text/html": [
       "<div>\n",
       "<style scoped>\n",
       "    .dataframe tbody tr th:only-of-type {\n",
       "        vertical-align: middle;\n",
       "    }\n",
       "\n",
       "    .dataframe tbody tr th {\n",
       "        vertical-align: top;\n",
       "    }\n",
       "\n",
       "    .dataframe thead th {\n",
       "        text-align: right;\n",
       "    }\n",
       "</style>\n",
       "<table border=\"1\" class=\"dataframe\">\n",
       "  <thead>\n",
       "    <tr style=\"text-align: right;\">\n",
       "      <th></th>\n",
       "      <th>Date</th>\n",
       "      <th>Open</th>\n",
       "      <th>High</th>\n",
       "      <th>Low</th>\n",
       "      <th>Close</th>\n",
       "      <th>Adj Close</th>\n",
       "      <th>Volume</th>\n",
       "    </tr>\n",
       "  </thead>\n",
       "  <tbody>\n",
       "    <tr>\n",
       "      <th>1187</th>\n",
       "      <td>2023-09-01</td>\n",
       "      <td>189.490005</td>\n",
       "      <td>189.919998</td>\n",
       "      <td>188.279999</td>\n",
       "      <td>189.460007</td>\n",
       "      <td>189.210739</td>\n",
       "      <td>45732600</td>\n",
       "    </tr>\n",
       "    <tr>\n",
       "      <th>1188</th>\n",
       "      <td>2023-09-05</td>\n",
       "      <td>188.279999</td>\n",
       "      <td>189.979996</td>\n",
       "      <td>187.610001</td>\n",
       "      <td>189.699997</td>\n",
       "      <td>189.450409</td>\n",
       "      <td>45280000</td>\n",
       "    </tr>\n",
       "    <tr>\n",
       "      <th>1189</th>\n",
       "      <td>2023-09-06</td>\n",
       "      <td>188.399994</td>\n",
       "      <td>188.850006</td>\n",
       "      <td>181.470001</td>\n",
       "      <td>182.910004</td>\n",
       "      <td>182.669342</td>\n",
       "      <td>81755800</td>\n",
       "    </tr>\n",
       "    <tr>\n",
       "      <th>1190</th>\n",
       "      <td>2023-09-07</td>\n",
       "      <td>175.179993</td>\n",
       "      <td>178.210007</td>\n",
       "      <td>173.539993</td>\n",
       "      <td>177.559998</td>\n",
       "      <td>177.326385</td>\n",
       "      <td>112488800</td>\n",
       "    </tr>\n",
       "    <tr>\n",
       "      <th>1191</th>\n",
       "      <td>2023-09-08</td>\n",
       "      <td>178.350006</td>\n",
       "      <td>180.240005</td>\n",
       "      <td>177.789993</td>\n",
       "      <td>178.179993</td>\n",
       "      <td>177.945557</td>\n",
       "      <td>65551300</td>\n",
       "    </tr>\n",
       "  </tbody>\n",
       "</table>\n",
       "</div>"
      ],
      "text/plain": [
       "            Date        Open        High         Low       Close   Adj Close  \\\n",
       "1187  2023-09-01  189.490005  189.919998  188.279999  189.460007  189.210739   \n",
       "1188  2023-09-05  188.279999  189.979996  187.610001  189.699997  189.450409   \n",
       "1189  2023-09-06  188.399994  188.850006  181.470001  182.910004  182.669342   \n",
       "1190  2023-09-07  175.179993  178.210007  173.539993  177.559998  177.326385   \n",
       "1191  2023-09-08  178.350006  180.240005  177.789993  178.179993  177.945557   \n",
       "\n",
       "         Volume  \n",
       "1187   45732600  \n",
       "1188   45280000  \n",
       "1189   81755800  \n",
       "1190  112488800  \n",
       "1191   65551300  "
      ]
     },
     "execution_count": 129,
     "metadata": {},
     "output_type": "execute_result"
    }
   ],
   "source": [
    "df.tail()"
   ]
  },
  {
   "cell_type": "code",
   "execution_count": 130,
   "metadata": {
    "id": "B2QHE3vy-XkC"
   },
   "outputs": [
    {
     "name": "stdout",
     "output_type": "stream",
     "text": [
      "<class 'pandas._libs.tslibs.timestamps.Timestamp'>\n"
     ]
    }
   ],
   "source": [
    "df['Date'] = pd.to_datetime(df['Date'])\n",
    "print(type(df['Date'][0]))"
   ]
  },
  {
   "cell_type": "code",
   "execution_count": 131,
   "metadata": {
    "id": "FjnkJZbsMHv8"
   },
   "outputs": [],
   "source": [
    "df1=df.reset_index()['Close']"
   ]
  },
  {
   "cell_type": "code",
   "execution_count": 132,
   "metadata": {
    "id": "kbdFdWvkMHv9"
   },
   "outputs": [
    {
     "data": {
      "text/plain": [
       "0        42.737499\n",
       "1        41.369999\n",
       "2        40.985001\n",
       "3        41.517502\n",
       "4        40.222500\n",
       "           ...    \n",
       "1187    189.460007\n",
       "1188    189.699997\n",
       "1189    182.910004\n",
       "1190    177.559998\n",
       "1191    178.179993\n",
       "Name: Close, Length: 1192, dtype: float64"
      ]
     },
     "execution_count": 132,
     "metadata": {},
     "output_type": "execute_result"
    }
   ],
   "source": [
    "df1"
   ]
  },
  {
   "cell_type": "code",
   "execution_count": 133,
   "metadata": {
    "id": "ok0oBuXh9Y7U"
   },
   "outputs": [],
   "source": [
    "df_final=df1"
   ]
  },
  {
   "cell_type": "markdown",
   "metadata": {},
   "source": [
    "--------------------------------------------------------------------------------------------------------------------------------"
   ]
  },
  {
   "cell_type": "markdown",
   "metadata": {},
   "source": [
    "**Dataset of stock prices from Apple of 1192 Days from \t2018-12-13 to \t2023-09-08**"
   ]
  },
  {
   "cell_type": "code",
   "execution_count": 134,
   "metadata": {
    "id": "teEMSpIXMHv9"
   },
   "outputs": [
    {
     "data": {
      "text/plain": [
       "[<matplotlib.lines.Line2D at 0x1c68b67cfa0>]"
      ]
     },
     "execution_count": 134,
     "metadata": {},
     "output_type": "execute_result"
    },
    {
     "data": {
      "image/png": "[encoded data removed]",
      "text/plain": [
       "<Figure size 640x480 with 1 Axes>"
      ]
     },
     "metadata": {},
     "output_type": "display_data"
    }
   ],
   "source": [
    "plt.plot(df1)"
   ]
  },
  {
   "cell_type": "code",
   "execution_count": null,
   "metadata": {
    "id": "CJr0sNMeMHv9"
   },
   "outputs": [],
   "source": [
    "### LSTM are sensitive to the scale of the data. so we apply MinMax scaler"
   ]
  },
  {
   "cell_type": "code",
   "execution_count": null,
   "metadata": {
    "id": "fPNE3ntaMHv9"
   },
   "outputs": [],
   "source": []
  },
  {
   "cell_type": "code",
   "execution_count": 135,
   "metadata": {
    "id": "G70ZX5ddMHv9"
   },
   "outputs": [
    {
     "data": {
      "text/plain": [
       "0        42.737499\n",
       "1        41.369999\n",
       "2        40.985001\n",
       "3        41.517502\n",
       "4        40.222500\n",
       "           ...    \n",
       "1187    189.460007\n",
       "1188    189.699997\n",
       "1189    182.910004\n",
       "1190    177.559998\n",
       "1191    178.179993\n",
       "Name: Close, Length: 1192, dtype: float64"
      ]
     },
     "execution_count": 135,
     "metadata": {},
     "output_type": "execute_result"
    }
   ],
   "source": [
    "df1"
   ]
  },
  {
   "cell_type": "code",
   "execution_count": 136,
   "metadata": {
    "id": "j2JwYg4PMHv-"
   },
   "outputs": [],
   "source": [
    "scaler=MinMaxScaler(feature_range=(0,1))\n",
    "df1=scaler.fit_transform(np.array(df1).reshape(-1,1))"
   ]
  },
  {
   "cell_type": "code",
   "execution_count": 137,
   "metadata": {
    "id": "RDG9lk50MHv-"
   },
   "outputs": [
    {
     "name": "stdout",
     "output_type": "stream",
     "text": [
      "[[0.04468543]\n",
      " [0.0361865 ]\n",
      " [0.03379376]\n",
      " ...\n",
      " [0.9158497 ]\n",
      " [0.88259971]\n",
      " [0.88645295]]\n"
     ]
    }
   ],
   "source": [
    "print(df1)"
   ]
  },
  {
   "cell_type": "markdown",
   "metadata": {},
   "source": [
    "--------------------------------------------------------------------------------------------------------------------------------"
   ]
  },
  {
   "cell_type": "markdown",
   "metadata": {},
   "source": [
    "**Splitting dataset into train and test data**"
   ]
  },
  {
   "cell_type": "code",
   "execution_count": 138,
   "metadata": {
    "id": "EYCr4UazMHv-"
   },
   "outputs": [],
   "source": [
    "training_size=int(len(df1)*0.65)\n",
    "test_size=len(df1)-training_size\n",
    "train_data,test_data=df1[0:training_size,:],df1[training_size:len(df1),:1]"
   ]
  },
  {
   "cell_type": "code",
   "execution_count": 139,
   "metadata": {
    "id": "1YCXw2RBMHv-"
   },
   "outputs": [
    {
     "name": "stdout",
     "output_type": "stream",
     "text": [
      "774 418\n",
      "0.6493288590604027\n",
      "0.35067114093959734\n"
     ]
    }
   ],
   "source": [
    "training_size,test_size\n",
    "print(training_size,test_size)\n",
    "print(training_size/(training_size+test_size))\n",
    "print(test_size/(training_size+test_size))"
   ]
  },
  {
   "cell_type": "code",
   "execution_count": 140,
   "metadata": {
    "id": "2SCHUyonMHv_"
   },
   "outputs": [
    {
     "data": {
      "text/plain": [
       "array([[0.04468543],\n",
       "       [0.0361865 ],\n",
       "       [0.03379376],\n",
       "       [0.03710322],\n",
       "       [0.02905486],\n",
       "       [0.02274669],\n",
       "       [0.01326889],\n",
       "       [0.00720933],\n",
       "       [0.02327496],\n",
       "       [0.02169014],\n",
       "       [0.02181444],\n",
       "       [0.02416059],\n",
       "       [0.02444026],\n",
       "       [0.        ],\n",
       "       [0.00943117],\n",
       "       [0.00891843],\n",
       "       [0.01329997],\n",
       "       [0.01727753],\n",
       "       [0.01803887],\n",
       "       [0.01569271],\n",
       "       [0.01213467],\n",
       "       [0.01690465],\n",
       "       [0.01981013],\n",
       "       [0.02123956],\n",
       "       [0.02273116],\n",
       "       [0.01726201],\n",
       "       [0.01822532],\n",
       "       [0.01632975],\n",
       "       [0.02419166],\n",
       "       [0.02192321],\n",
       "       [0.01940614],\n",
       "       [0.03582915],\n",
       "       [0.0376781 ],\n",
       "       [0.0378024 ],\n",
       "       [0.04515156],\n",
       "       [0.049704  ],\n",
       "       [0.04979724],\n",
       "       [0.04466991],\n",
       "       [0.04384643],\n",
       "       [0.04232375],\n",
       "       [0.04459222],\n",
       "       [0.04348905],\n",
       "       [0.04445239],\n",
       "       [0.04386196],\n",
       "       [0.04465435],\n",
       "       [0.04636348],\n",
       "       [0.04485635],\n",
       "       [0.04782399],\n",
       "       [0.04978169],\n",
       "       [0.04993707],\n",
       "       [0.05077608],\n",
       "       [0.04810365],\n",
       "       [0.05093146],\n",
       "       [0.05229876],\n",
       "       [0.05180155],\n",
       "       [0.05023228],\n",
       "       [0.04709373],\n",
       "       [0.04773077],\n",
       "       [0.05703763],\n",
       "       [0.06016066],\n",
       "       [0.06140365],\n",
       "       [0.06454218],\n",
       "       [0.06825561],\n",
       "       [0.07120772],\n",
       "       [0.06889265],\n",
       "       [0.07142524],\n",
       "       [0.08219262],\n",
       "       [0.07591554],\n",
       "       [0.07232641],\n",
       "       [0.06929661],\n",
       "       [0.0719069 ],\n",
       "       [0.07229533],\n",
       "       [0.07420642],\n",
       "       [0.07621075],\n",
       "       [0.08053014],\n",
       "       [0.08259661],\n",
       "       [0.08312488],\n",
       "       [0.08516026],\n",
       "       [0.08997686],\n",
       "       [0.0890446 ],\n",
       "       [0.09078478],\n",
       "       [0.08819004],\n",
       "       [0.08806574],\n",
       "       [0.08862509],\n",
       "       [0.08865617],\n",
       "       [0.09468467],\n",
       "       [0.09581889],\n",
       "       [0.0968599 ],\n",
       "       [0.10144341],\n",
       "       [0.10094623],\n",
       "       [0.0980252 ],\n",
       "       [0.09650254],\n",
       "       [0.09698419],\n",
       "       [0.09086247],\n",
       "       [0.10616678],\n",
       "       [0.10403814],\n",
       "       [0.10807787],\n",
       "       [0.10299715],\n",
       "       [0.09426516],\n",
       "       [0.09432729],\n",
       "       [0.09094016],\n",
       "       [0.08543992],\n",
       "       [0.06763412],\n",
       "       [0.07220211],\n",
       "       [0.07571355],\n",
       "       [0.07440841],\n",
       "       [0.07273038],\n",
       "       [0.06354779],\n",
       "       [0.06900142],\n",
       "       [0.06306614],\n",
       "       [0.05821849],\n",
       "       [0.0571464 ],\n",
       "       [0.05599663],\n",
       "       [0.05467597],\n",
       "       [0.05610541],\n",
       "       [0.05108685],\n",
       "       [0.04833673],\n",
       "       [0.05818741],\n",
       "       [0.06269323],\n",
       "       [0.06685725],\n",
       "       [0.07451716],\n",
       "       [0.07829275],\n",
       "       [0.08175758],\n",
       "       [0.08079427],\n",
       "       [0.0807321 ],\n",
       "       [0.07854135],\n",
       "       [0.08032814],\n",
       "       [0.08741317],\n",
       "       [0.08651201],\n",
       "       [0.08898247],\n",
       "       [0.08792591],\n",
       "       [0.08761517],\n",
       "       [0.08293843],\n",
       "       [0.08951073],\n",
       "       [0.08941751],\n",
       "       [0.0865897 ],\n",
       "       [0.09222977],\n",
       "       [0.09406316],\n",
       "       [0.09667345],\n",
       "       [0.09639377],\n",
       "       [0.08985255],\n",
       "       [0.09174811],\n",
       "       [0.09484003],\n",
       "       [0.09254051],\n",
       "       [0.09494881],\n",
       "       [0.09791645],\n",
       "       [0.09681328],\n",
       "       [0.0950265 ],\n",
       "       [0.09861562],\n",
       "       [0.09384564],\n",
       "       [0.10103945],\n",
       "       [0.10355649],\n",
       "       [0.10329236],\n",
       "       [0.1007287 ],\n",
       "       [0.10184739],\n",
       "       [0.10486162],\n",
       "       [0.10346327],\n",
       "       [0.11008218],\n",
       "       [0.10291945],\n",
       "       [0.0960675 ],\n",
       "       [0.07947358],\n",
       "       [0.08516026],\n",
       "       [0.08832987],\n",
       "       [0.09515077],\n",
       "       [0.09135968],\n",
       "       [0.09056726],\n",
       "       [0.10375848],\n",
       "       [0.09409425],\n",
       "       [0.09252498],\n",
       "       [0.09992076],\n",
       "       [0.10590265],\n",
       "       [0.10591818],\n",
       "       [0.10946069],\n",
       "       [0.10918103],\n",
       "       [0.09392333],\n",
       "       [0.09990522],\n",
       "       [0.09628502],\n",
       "       [0.09841363],\n",
       "       [0.10382063],\n",
       "       [0.10340113],\n",
       "       [0.09867776],\n",
       "       [0.10410031],\n",
       "       [0.11045509],\n",
       "       [0.110424  ],\n",
       "       [0.11183791],\n",
       "       [0.11576886],\n",
       "       [0.1264741 ],\n",
       "       [0.12569723],\n",
       "       [0.11895402],\n",
       "       [0.12074081],\n",
       "       [0.1219838 ],\n",
       "       [0.12520005],\n",
       "       [0.12238779],\n",
       "       [0.1173692 ],\n",
       "       [0.11890741],\n",
       "       [0.11729151],\n",
       "       [0.12249654],\n",
       "       [0.12072528],\n",
       "       [0.1190628 ],\n",
       "       [0.12706452],\n",
       "       [0.12802783],\n",
       "       [0.11928032],\n",
       "       [0.12217027],\n",
       "       [0.13178787],\n",
       "       [0.13186556],\n",
       "       [0.12773262],\n",
       "       [0.13181896],\n",
       "       [0.13657338],\n",
       "       [0.14608226],\n",
       "       [0.14555398],\n",
       "       [0.14469944],\n",
       "       [0.14322337],\n",
       "       [0.14463728],\n",
       "       [0.14639301],\n",
       "       [0.15276331],\n",
       "       [0.15190877],\n",
       "       [0.15691178],\n",
       "       [0.15753329],\n",
       "       [0.16219449],\n",
       "       [0.16603223],\n",
       "       [0.15708269],\n",
       "       [0.15703608],\n",
       "       [0.16558163],\n",
       "       [0.17655103],\n",
       "       [0.17916129],\n",
       "       [0.17858642],\n",
       "       [0.17875731],\n",
       "       [0.18215999],\n",
       "       [0.18326318],\n",
       "       [0.18646387],\n",
       "       [0.18609094],\n",
       "       [0.18999083],\n",
       "       [0.18714752],\n",
       "       [0.19199516],\n",
       "       [0.19407717],\n",
       "       [0.19281864],\n",
       "       [0.18800206],\n",
       "       [0.18616865],\n",
       "       [0.18581128],\n",
       "       [0.19294292],\n",
       "       [0.18971117],\n",
       "       [0.19522692],\n",
       "       [0.19431022],\n",
       "       [0.18950918],\n",
       "       [0.1821911 ],\n",
       "       [0.18574912],\n",
       "       [0.19171546],\n",
       "       [0.19968613],\n",
       "       [0.1937975 ],\n",
       "       [0.19622133],\n",
       "       [0.19977935],\n",
       "       [0.20085143],\n",
       "       [0.20658472],\n",
       "       [0.2139028 ],\n",
       "       [0.21475739],\n",
       "       [0.21371637],\n",
       "       [0.21415141],\n",
       "       [0.21325027],\n",
       "       [0.2203353 ],\n",
       "       [0.22075479],\n",
       "       [0.22951788],\n",
       "       [0.22934695],\n",
       "       [0.23201937],\n",
       "       [0.23532884],\n",
       "       [0.24573889],\n",
       "       [0.24120196],\n",
       "       [0.24488431],\n",
       "       [0.24269358],\n",
       "       [0.2501515 ],\n",
       "       [0.26015756],\n",
       "       [0.26124515],\n",
       "       [0.27154642],\n",
       "       [0.26489643],\n",
       "       [0.26281443],\n",
       "       [0.268874  ],\n",
       "       [0.27429657],\n",
       "       [0.27094049],\n",
       "       [0.27269622],\n",
       "       [0.27507343],\n",
       "       [0.27364397],\n",
       "       [0.25910103],\n",
       "       [0.27268067],\n",
       "       [0.283013  ],\n",
       "       [0.28228274],\n",
       "       [0.25997111],\n",
       "       [0.25865043],\n",
       "       [0.27448301],\n",
       "       [0.27852273],\n",
       "       [0.28436474],\n",
       "       [0.2763164 ],\n",
       "       [0.27867806],\n",
       "       [0.27566381],\n",
       "       [0.28745671],\n",
       "       [0.28383648],\n",
       "       [0.2839608 ],\n",
       "       [0.27471606],\n",
       "       [0.28189431],\n",
       "       [0.27673589],\n",
       "       [0.26547131],\n",
       "       [0.24236726],\n",
       "       [0.22667452],\n",
       "       [0.2337751 ],\n",
       "       [0.20405212],\n",
       "       [0.20380352],\n",
       "       [0.24334612],\n",
       "       [0.22860118],\n",
       "       [0.2494523 ],\n",
       "       [0.23419464],\n",
       "       [0.22815059],\n",
       "       [0.1926322 ],\n",
       "       [0.2224173 ],\n",
       "       [0.20701977],\n",
       "       [0.16475815],\n",
       "       [0.21096627],\n",
       "       [0.15540468],\n",
       "       [0.17195196],\n",
       "       [0.16233433],\n",
       "       [0.15939777],\n",
       "       [0.13525272],\n",
       "       [0.12768601],\n",
       "       [0.16266062],\n",
       "       [0.16054754],\n",
       "       [0.18062181],\n",
       "       [0.16399683],\n",
       "       [0.17498174],\n",
       "       [0.17417379],\n",
       "       [0.15338482],\n",
       "       [0.15963082],\n",
       "       [0.15416169],\n",
       "       [0.18688336],\n",
       "       [0.18215999],\n",
       "       [0.19247682],\n",
       "       [0.19545997],\n",
       "       [0.20363263],\n",
       "       [0.22507417],\n",
       "       [0.22100339],\n",
       "       [0.22451485],\n",
       "       [0.21847079],\n",
       "       [0.20935037],\n",
       "       [0.1960504 ],\n",
       "       [0.20806079],\n",
       "       [0.20639828],\n",
       "       [0.21873495],\n",
       "       [0.21904571],\n",
       "       [0.21191403],\n",
       "       [0.22613075],\n",
       "       [0.23556189],\n",
       "       [0.22821275],\n",
       "       [0.23456752],\n",
       "       [0.24140395],\n",
       "       [0.24617393],\n",
       "       [0.25100603],\n",
       "       [0.26093442],\n",
       "       [0.26851666],\n",
       "       [0.26292321],\n",
       "       [0.25708114],\n",
       "       [0.26001773],\n",
       "       [0.25717436],\n",
       "       [0.26843895],\n",
       "       [0.26561119],\n",
       "       [0.27507343],\n",
       "       [0.27137554],\n",
       "       [0.27454517],\n",
       "       [0.27118909],\n",
       "       [0.27333321],\n",
       "       [0.27355075],\n",
       "       [0.2730691 ],\n",
       "       [0.27914422],\n",
       "       [0.28145926],\n",
       "       [0.28422491],\n",
       "       [0.27987447],\n",
       "       [0.29413776],\n",
       "       [0.29718307],\n",
       "       [0.31354391],\n",
       "       [0.32729448],\n",
       "       [0.30097418],\n",
       "       [0.30548001],\n",
       "       [0.31199017],\n",
       "       [0.32611362],\n",
       "       [0.32535231],\n",
       "       [0.32556985],\n",
       "       [0.32244683],\n",
       "       [0.3366635 ],\n",
       "       [0.34856513],\n",
       "       [0.33851245],\n",
       "       [0.34593931],\n",
       "       [0.32852194],\n",
       "       [0.34118488],\n",
       "       [0.34587715],\n",
       "       [0.34480506],\n",
       "       [0.34480506],\n",
       "       [0.35993849],\n",
       "       [0.35813615],\n",
       "       [0.37162256],\n",
       "       [0.37417071],\n",
       "       [0.37521169],\n",
       "       [0.37246159],\n",
       "       [0.38228122],\n",
       "       [0.38642966],\n",
       "       [0.3789562 ],\n",
       "       [0.37774428],\n",
       "       [0.39036061],\n",
       "       [0.38192384],\n",
       "       [0.38361741],\n",
       "       [0.35610075],\n",
       "       [0.3546713 ],\n",
       "       [0.3683131 ],\n",
       "       [0.35863335],\n",
       "       [0.36974256],\n",
       "       [0.37688975],\n",
       "       [0.43947423],\n",
       "       [0.45611473],\n",
       "       [0.46063611],\n",
       "       [0.46310654],\n",
       "       [0.48697191],\n",
       "       [0.46963225],\n",
       "       [0.47966938],\n",
       "       [0.45883377],\n",
       "       [0.4814251 ],\n",
       "       [0.49385499],\n",
       "       [0.49321795],\n",
       "       [0.49135345],\n",
       "       [0.49728874],\n",
       "       [0.49818989],\n",
       "       [0.51414678],\n",
       "       [0.55202687],\n",
       "       [0.56127157],\n",
       "       [0.55485464],\n",
       "       [0.56540452],\n",
       "       [0.55600443],\n",
       "       [0.55474591],\n",
       "       [0.5810506 ],\n",
       "       [0.61299541],\n",
       "       [0.59571788],\n",
       "       [0.53033668],\n",
       "       [0.53083389],\n",
       "       [0.48024425],\n",
       "       [0.5082115 ],\n",
       "       [0.48440825],\n",
       "       [0.475148  ],\n",
       "       [0.49603022],\n",
       "       [0.49714891],\n",
       "       [0.47595592],\n",
       "       [0.46483117],\n",
       "       [0.44307886],\n",
       "       [0.46321532],\n",
       "       [0.47396715],\n",
       "       [0.44481909],\n",
       "       [0.45165552],\n",
       "       [0.47688818],\n",
       "       [0.49354423],\n",
       "       [0.48813721],\n",
       "       [0.49882692],\n",
       "       [0.50491759],\n",
       "       [0.48148722],\n",
       "       [0.50311525],\n",
       "       [0.48235736],\n",
       "       [0.49429004],\n",
       "       [0.49360639],\n",
       "       [0.50603628],\n",
       "       [0.55221332],\n",
       "       [0.53170398],\n",
       "       [0.53226335],\n",
       "       [0.52928015],\n",
       "       [0.51877689],\n",
       "       [0.49988349],\n",
       "       [0.50939235],\n",
       "       [0.50541479],\n",
       "       [0.49845404],\n",
       "       [0.49404143],\n",
       "       [0.4941036 ],\n",
       "       [0.50373673],\n",
       "       [0.47017603],\n",
       "       [0.49578161],\n",
       "       [0.45563308],\n",
       "       [0.45507371],\n",
       "       [0.4654527 ],\n",
       "       [0.49348207],\n",
       "       [0.51883905],\n",
       "       [0.51672599],\n",
       "       [0.50199656],\n",
       "       [0.49982133],\n",
       "       [0.52169792],\n",
       "       [0.51995774],\n",
       "       [0.5202685 ],\n",
       "       [0.52673205],\n",
       "       [0.52107643],\n",
       "       [0.5126241 ],\n",
       "       [0.51641522],\n",
       "       [0.50833577],\n",
       "       [0.48664563],\n",
       "       [0.49484936],\n",
       "       [0.50019422],\n",
       "       [0.50367457],\n",
       "       [0.51896337],\n",
       "       [0.5417722 ],\n",
       "       [0.54400959],\n",
       "       [0.5431395 ],\n",
       "       [0.53885117],\n",
       "       [0.54817359],\n",
       "       [0.55208899],\n",
       "       [0.53593014],\n",
       "       [0.54500396],\n",
       "       [0.53984559],\n",
       "       [0.53593014],\n",
       "       [0.57384129],\n",
       "       [0.57340625],\n",
       "       [0.57893754],\n",
       "       [0.5662591 ],\n",
       "       [0.57601651],\n",
       "       [0.59870112],\n",
       "       [0.59298338],\n",
       "       [0.59926044],\n",
       "       [0.62859498],\n",
       "       [0.61728374],\n",
       "       [0.61013659],\n",
       "       [0.6037352 ],\n",
       "       [0.5833502 ],\n",
       "       [0.59329405],\n",
       "       [0.56588617],\n",
       "       [0.59273473],\n",
       "       [0.59975764],\n",
       "       [0.58067772],\n",
       "       [0.57955908],\n",
       "       [0.59254828],\n",
       "       [0.58024273],\n",
       "       [0.56924224],\n",
       "       [0.57353057],\n",
       "       [0.59963332],\n",
       "       [0.62971362],\n",
       "       [0.64338658],\n",
       "       [0.66731405],\n",
       "       [0.66880568],\n",
       "       [0.6619692 ],\n",
       "       [0.63108092],\n",
       "       [0.59919832],\n",
       "       [0.61274685],\n",
       "       [0.61802959],\n",
       "       [0.61150388],\n",
       "       [0.63294542],\n",
       "       [0.62902998],\n",
       "       [0.62996228],\n",
       "       [0.62436877],\n",
       "       [0.62051553],\n",
       "       [0.61889968],\n",
       "       [0.62039121],\n",
       "       [0.60684267],\n",
       "       [0.59223752],\n",
       "       [0.5852147 ],\n",
       "       [0.58620902],\n",
       "       [0.56215721],\n",
       "       [0.56128713],\n",
       "       [0.55811749],\n",
       "       [0.53102033],\n",
       "       [0.53269839],\n",
       "       [0.57328197],\n",
       "       [0.55668808],\n",
       "       [0.53767032],\n",
       "       [0.52567547],\n",
       "       [0.53369276],\n",
       "       [0.50224516],\n",
       "       [0.53164181],\n",
       "       [0.52474327],\n",
       "       [0.53704883],\n",
       "       [0.53126894],\n",
       "       [0.54966516],\n",
       "       [0.55948479],\n",
       "       [0.5544507 ],\n",
       "       [0.52816146],\n",
       "       [0.52480539],\n",
       "       [0.5459362 ],\n",
       "       [0.54065351],\n",
       "       [0.52542687],\n",
       "       [0.52853434],\n",
       "       [0.53238763],\n",
       "       [0.53350632],\n",
       "       [0.52424607],\n",
       "       [0.53822969],\n",
       "       [0.54351238],\n",
       "       [0.56153573],\n",
       "       [0.56346235],\n",
       "       [0.57396562],\n",
       "       [0.58925438],\n",
       "       [0.60566182],\n",
       "       [0.59472355],\n",
       "       [0.61454915],\n",
       "       [0.59963332],\n",
       "       [0.61498424],\n",
       "       [0.61287118],\n",
       "       [0.61709729],\n",
       "       [0.60634547],\n",
       "       [0.60876929],\n",
       "       [0.59907399],\n",
       "       [0.61386559],\n",
       "       [0.61635153],\n",
       "       [0.61430059],\n",
       "       [0.6092665 ],\n",
       "       [0.60864497],\n",
       "       [0.59609085],\n",
       "       [0.6028029 ],\n",
       "       [0.57365485],\n",
       "       [0.57520863],\n",
       "       [0.58540114],\n",
       "       [0.58832217],\n",
       "       [0.5674399 ],\n",
       "       [0.56159789],\n",
       "       [0.54208293],\n",
       "       [0.55575583],\n",
       "       [0.57116886],\n",
       "       [0.56383523],\n",
       "       [0.55501002],\n",
       "       [0.55401565],\n",
       "       [0.57029878],\n",
       "       [0.5586147 ],\n",
       "       [0.56899364],\n",
       "       [0.56775068],\n",
       "       [0.5674399 ],\n",
       "       [0.55768245],\n",
       "       [0.55351845],\n",
       "       [0.5514675 ],\n",
       "       [0.55631515],\n",
       "       [0.54686846],\n",
       "       [0.56147356],\n",
       "       [0.56153573],\n",
       "       [0.56675626],\n",
       "       [0.56918008],\n",
       "       [0.56284086],\n",
       "       [0.57054738],\n",
       "       [0.59000014],\n",
       "       [0.5847796 ],\n",
       "       [0.5879492 ],\n",
       "       [0.5981417 ],\n",
       "       [0.58987591],\n",
       "       [0.60131138],\n",
       "       [0.61175244],\n",
       "       [0.61001226],\n",
       "       [0.60820997],\n",
       "       [0.60634547],\n",
       "       [0.61672442],\n",
       "       [0.6263576 ],\n",
       "       [0.63027304],\n",
       "       [0.63219966],\n",
       "       [0.64891788],\n",
       "       [0.66172064],\n",
       "       [0.67756877],\n",
       "       [0.66930288],\n",
       "       [0.6809248 ],\n",
       "       [0.67713368],\n",
       "       [0.68421871],\n",
       "       [0.70603313],\n",
       "       [0.70186913],\n",
       "       [0.68887992],\n",
       "       [0.66439302],\n",
       "       [0.6873883 ],\n",
       "       [0.68272709],\n",
       "       [0.69142807],\n",
       "       [0.70236634],\n",
       "       [0.70503881],\n",
       "       [0.69124163],\n",
       "       [0.68011683],\n",
       "       [0.68421871],\n",
       "       [0.68558601],\n",
       "       [0.68347295],\n",
       "       [0.69490842],\n",
       "       [0.69236027],\n",
       "       [0.69304392],\n",
       "       [0.68732618],\n",
       "       [0.68701541],\n",
       "       [0.68397015],\n",
       "       [0.68558601],\n",
       "       [0.70441728],\n",
       "       [0.70572246],\n",
       "       [0.71827658],\n",
       "       [0.71249672],\n",
       "       [0.68869348],\n",
       "       [0.69080654],\n",
       "       [0.70006683],\n",
       "       [0.70951358],\n",
       "       [0.70895416],\n",
       "       [0.70112337],\n",
       "       [0.69602706],\n",
       "       [0.70261499],\n",
       "       [0.73070646],\n",
       "       [0.72268923],\n",
       "       [0.72691535],\n",
       "       [0.73400038],\n",
       "       [0.73804015],\n",
       "       [0.75289386],\n",
       "       [0.74307424],\n",
       "       [0.73661074],\n",
       "       [0.70491448],\n",
       "       [0.70851916],\n",
       "       [0.69963174],\n",
       "       [0.70528737],\n",
       "       [0.70379574],\n",
       "       [0.68682898],\n",
       "       [0.66743838],\n",
       "       [0.67048364],\n",
       "       [0.68552389],\n",
       "       [0.69161451],\n",
       "       [0.69217383],\n",
       "       [0.68254065],\n",
       "       [0.661037  ],\n",
       "       [0.66675473],\n",
       "       [0.65848885],\n",
       "       [0.66563599],\n",
       "       [0.64382157],\n",
       "       [0.65606502],\n",
       "       [0.66159632],\n",
       "       [0.66961355],\n",
       "       [0.66718973],\n",
       "       [0.66663041],\n",
       "       [0.65855096],\n",
       "       [0.65482205],\n",
       "       [0.67253459],\n",
       "       [0.67924673],\n",
       "       [0.68987433],\n",
       "       [0.70360931],\n",
       "       [0.70671678],\n",
       "       [0.70808407],\n",
       "       [0.70317431],\n",
       "       [0.70286354],\n",
       "       [0.70708975],\n",
       "       [0.70416872],\n",
       "       [0.72728832],\n",
       "       [0.7100729 ],\n",
       "       [0.70485237],\n",
       "       [0.71144019],\n",
       "       [0.72057617],\n",
       "       [0.71728226],\n",
       "       [0.71927099],\n",
       "       [0.71405046],\n",
       "       [0.71634996],\n",
       "       [0.69838877],\n",
       "       [0.69807801],\n",
       "       [0.71125375],\n",
       "       [0.71131587],\n",
       "       [0.71753081],\n",
       "       [0.73300606],\n",
       "       [0.76022745],\n",
       "       [0.77688355],\n",
       "       [0.77980458],\n",
       "       [0.78222841],\n",
       "       [0.78552231],\n",
       "       [0.75363963],\n",
       "       [0.77495693],\n",
       "       [0.80640453],\n",
       "       [0.80311062],\n",
       "       [0.79683347],\n",
       "       [0.78490078],\n",
       "       [0.80652886],\n",
       "       [0.84294834],\n",
       "       [0.86718668],\n",
       "       [0.86395488],\n",
       "       [0.89434595],\n",
       "       [0.87128856],\n",
       "       [0.86252547],\n",
       "       [0.89341375],\n",
       "       [0.84966049],\n",
       "       [0.84269978],\n",
       "       [0.83406101],\n",
       "       [0.85419746],\n",
       "       [0.87066703],\n",
       "       [0.87464459],\n",
       "       [0.89981513],\n",
       "       [0.89335154],\n",
       "       [0.89391096],\n",
       "       [0.88657727],\n",
       "       [0.88266192],\n",
       "       [0.9102562 ],\n",
       "       [0.89589969],\n",
       "       [0.86619226],\n",
       "       [0.84804464],\n",
       "       [0.84910117]])"
      ]
     },
     "execution_count": 140,
     "metadata": {},
     "output_type": "execute_result"
    }
   ],
   "source": [
    "train_data"
   ]
  },
  {
   "cell_type": "code",
   "execution_count": 141,
   "metadata": {
    "id": "vSY_hlu5MHv_"
   },
   "outputs": [],
   "source": [
    "import numpy\n",
    "# convert an array of values into a dataset matrix\n",
    "def create_dataset(dataset, time_step=1):\n",
    "\tdataX, dataY = [], []\n",
    "\tfor i in range(len(dataset)-time_step-1):\n",
    "\t\ta = dataset[i:(i+time_step), 0]   ###i=0, 0,1,2,3-----99   100\n",
    "\t\tdataX.append(a)\n",
    "\t\tdataY.append(dataset[i + time_step, 0])\n",
    "\treturn numpy.array(dataX), numpy.array(dataY)"
   ]
  },
  {
   "cell_type": "code",
   "execution_count": 142,
   "metadata": {
    "id": "Yr1KqN2KMHv_"
   },
   "outputs": [],
   "source": [
    "# reshape into X=t,t+1,t+2,t+3 and Y=t+4\n",
    "time_step = 100\n",
    "X_train, y_train = create_dataset(train_data, time_step)\n",
    "X_test, ytest = create_dataset(test_data, time_step)"
   ]
  },
  {
   "cell_type": "code",
   "execution_count": 143,
   "metadata": {
    "id": "czB9fYN_MHwA"
   },
   "outputs": [
    {
     "name": "stdout",
     "output_type": "stream",
     "text": [
      "(673, 100)\n",
      "(673,)\n"
     ]
    }
   ],
   "source": [
    "print(X_train.shape)\n",
    "print(y_train.shape)"
   ]
  },
  {
   "cell_type": "code",
   "execution_count": 144,
   "metadata": {
    "id": "bzOjyNChMHwA"
   },
   "outputs": [
    {
     "name": "stdout",
     "output_type": "stream",
     "text": [
      "(317, 100)\n",
      "(317,)\n"
     ]
    },
    {
     "data": {
      "text/plain": [
       "(None, None)"
      ]
     },
     "execution_count": 144,
     "metadata": {},
     "output_type": "execute_result"
    }
   ],
   "source": [
    "print(X_test.shape), print(ytest.shape)"
   ]
  },
  {
   "cell_type": "code",
   "execution_count": 145,
   "metadata": {
    "id": "iCWsxhTVMHwB"
   },
   "outputs": [],
   "source": [
    "# reshape input to be [samples, time steps, features] which is required for LSTM\n",
    "X_train =X_train.reshape(X_train.shape[0],X_train.shape[1] , 1)\n",
    "X_test = X_test.reshape(X_test.shape[0],X_test.shape[1] , 1)"
   ]
  },
  {
   "cell_type": "markdown",
   "metadata": {},
   "source": [
    "-------------------------------------------------------------------------------------------------------------------------------"
   ]
  },
  {
   "cell_type": "markdown",
   "metadata": {},
   "source": [
    "**Building the LSTM Model**"
   ]
  },
  {
   "cell_type": "code",
   "execution_count": 146,
   "metadata": {
    "id": "UywFV2pspooJ"
   },
   "outputs": [],
   "source": [
    "import tensorflow\n",
    "from tensorflow.keras import layers "
   ]
  },
  {
   "cell_type": "code",
   "execution_count": 147,
   "metadata": {
    "id": "UzHttA6xMHwB"
   },
   "outputs": [],
   "source": [
    "### Create the Stacked LSTM model\n",
    "from tensorflow.keras.models import Sequential\n",
    "from tensorflow.keras.layers import Dense\n",
    "from tensorflow.keras.layers import Input\n",
    "from tensorflow.keras.layers import LSTM"
   ]
  },
  {
   "cell_type": "code",
   "execution_count": 148,
   "metadata": {
    "id": "X-4jxAVJMHwB"
   },
   "outputs": [],
   "source": [
    "from tensorflow.keras.models import Sequential\n",
    "from tensorflow.keras.layers import Dense, LSTM, Input\n",
    "\n",
    "model = Sequential()\n",
    "model.add(Input(shape=(100, 1)))# Input layer specifying input shape\n",
    "model.add(LSTM(50, return_sequences=True))\n",
    "#model.add(layers.BatchNormalization())\n",
    "model.add(LSTM(50, return_sequences=True))\n",
    "#model.add(layers.BatchNormalization())\n",
    "model.add(LSTM(50))\n",
    "#model.add(layers.BatchNormalization())\n",
    "model.add(Dense(1))\n",
    "\n",
    "model.compile(loss='mean_squared_error', optimizer='adam')\n",
    "\n"
   ]
  },
  {
   "cell_type": "code",
   "execution_count": 149,
   "metadata": {
    "id": "LIgCBQvrMHwB"
   },
   "outputs": [
    {
     "data": {
      "text/html": [
       "<pre style=\"white-space:pre;overflow-x:auto;line-height:normal;font-family:Menlo,'DejaVu Sans Mono',consolas,'Courier New',monospace\"><span style=\"font-weight: bold\">Model: \"sequential_7\"</span>\n",
       "</pre>\n"
      ],
      "text/plain": [
       "\u001b[1mModel: \"sequential_7\"\u001b[0m\n"
      ]
     },
     "metadata": {},
     "output_type": "display_data"
    },
    {
     "data": {
      "text/html": [
       "<pre style=\"white-space:pre;overflow-x:auto;line-height:normal;font-family:Menlo,'DejaVu Sans Mono',consolas,'Courier New',monospace\">┏━━━━━━━━━━━━━━━━━━━━━━━━━━━━━━━━━━━━━━┳━━━━━━━━━━━━━━━━━━━━━━━━━━━━━┳━━━━━━━━━━━━━━━━━┓\n",
       "┃<span style=\"font-weight: bold\"> Layer (type)                         </span>┃<span style=\"font-weight: bold\"> Output Shape                </span>┃<span style=\"font-weight: bold\">         Param # </span>┃\n",
       "┡━━━━━━━━━━━━━━━━━━━━━━━━━━━━━━━━━━━━━━╇━━━━━━━━━━━━━━━━━━━━━━━━━━━━━╇━━━━━━━━━━━━━━━━━┩\n",
       "│ lstm_17 (<span style=\"color: #0087ff; text-decoration-color: #0087ff\">LSTM</span>)                       │ (<span style=\"color: #00d7ff; text-decoration-color: #00d7ff\">None</span>, <span style=\"color: #00af00; text-decoration-color: #00af00\">100</span>, <span style=\"color: #00af00; text-decoration-color: #00af00\">50</span>)             │          <span style=\"color: #00af00; text-decoration-color: #00af00\">10,400</span> │\n",
       "├──────────────────────────────────────┼─────────────────────────────┼─────────────────┤\n",
       "│ lstm_18 (<span style=\"color: #0087ff; text-decoration-color: #0087ff\">LSTM</span>)                       │ (<span style=\"color: #00d7ff; text-decoration-color: #00d7ff\">None</span>, <span style=\"color: #00af00; text-decoration-color: #00af00\">100</span>, <span style=\"color: #00af00; text-decoration-color: #00af00\">50</span>)             │          <span style=\"color: #00af00; text-decoration-color: #00af00\">20,200</span> │\n",
       "├──────────────────────────────────────┼─────────────────────────────┼─────────────────┤\n",
       "│ lstm_19 (<span style=\"color: #0087ff; text-decoration-color: #0087ff\">LSTM</span>)                       │ (<span style=\"color: #00d7ff; text-decoration-color: #00d7ff\">None</span>, <span style=\"color: #00af00; text-decoration-color: #00af00\">50</span>)                  │          <span style=\"color: #00af00; text-decoration-color: #00af00\">20,200</span> │\n",
       "├──────────────────────────────────────┼─────────────────────────────┼─────────────────┤\n",
       "│ dense_5 (<span style=\"color: #0087ff; text-decoration-color: #0087ff\">Dense</span>)                      │ (<span style=\"color: #00d7ff; text-decoration-color: #00d7ff\">None</span>, <span style=\"color: #00af00; text-decoration-color: #00af00\">1</span>)                   │              <span style=\"color: #00af00; text-decoration-color: #00af00\">51</span> │\n",
       "└──────────────────────────────────────┴─────────────────────────────┴─────────────────┘\n",
       "</pre>\n"
      ],
      "text/plain": [
       "┏━━━━━━━━━━━━━━━━━━━━━━━━━━━━━━━━━━━━━━┳━━━━━━━━━━━━━━━━━━━━━━━━━━━━━┳━━━━━━━━━━━━━━━━━┓\n",
       "┃\u001b[1m \u001b[0m\u001b[1mLayer (type)                        \u001b[0m\u001b[1m \u001b[0m┃\u001b[1m \u001b[0m\u001b[1mOutput Shape               \u001b[0m\u001b[1m \u001b[0m┃\u001b[1m \u001b[0m\u001b[1m        Param #\u001b[0m\u001b[1m \u001b[0m┃\n",
       "┡━━━━━━━━━━━━━━━━━━━━━━━━━━━━━━━━━━━━━━╇━━━━━━━━━━━━━━━━━━━━━━━━━━━━━╇━━━━━━━━━━━━━━━━━┩\n",
       "│ lstm_17 (\u001b[38;5;33mLSTM\u001b[0m)                       │ (\u001b[38;5;45mNone\u001b[0m, \u001b[38;5;34m100\u001b[0m, \u001b[38;5;34m50\u001b[0m)             │          \u001b[38;5;34m10,400\u001b[0m │\n",
       "├──────────────────────────────────────┼─────────────────────────────┼─────────────────┤\n",
       "│ lstm_18 (\u001b[38;5;33mLSTM\u001b[0m)                       │ (\u001b[38;5;45mNone\u001b[0m, \u001b[38;5;34m100\u001b[0m, \u001b[38;5;34m50\u001b[0m)             │          \u001b[38;5;34m20,200\u001b[0m │\n",
       "├──────────────────────────────────────┼─────────────────────────────┼─────────────────┤\n",
       "│ lstm_19 (\u001b[38;5;33mLSTM\u001b[0m)                       │ (\u001b[38;5;45mNone\u001b[0m, \u001b[38;5;34m50\u001b[0m)                  │          \u001b[38;5;34m20,200\u001b[0m │\n",
       "├──────────────────────────────────────┼─────────────────────────────┼─────────────────┤\n",
       "│ dense_5 (\u001b[38;5;33mDense\u001b[0m)                      │ (\u001b[38;5;45mNone\u001b[0m, \u001b[38;5;34m1\u001b[0m)                   │              \u001b[38;5;34m51\u001b[0m │\n",
       "└──────────────────────────────────────┴─────────────────────────────┴─────────────────┘\n"
      ]
     },
     "metadata": {},
     "output_type": "display_data"
    },
    {
     "data": {
      "text/html": [
       "<pre style=\"white-space:pre;overflow-x:auto;line-height:normal;font-family:Menlo,'DejaVu Sans Mono',consolas,'Courier New',monospace\"><span style=\"font-weight: bold\"> Total params: </span><span style=\"color: #00af00; text-decoration-color: #00af00\">50,851</span> (198.64 KB)\n",
       "</pre>\n"
      ],
      "text/plain": [
       "\u001b[1m Total params: \u001b[0m\u001b[38;5;34m50,851\u001b[0m (198.64 KB)\n"
      ]
     },
     "metadata": {},
     "output_type": "display_data"
    },
    {
     "data": {
      "text/html": [
       "<pre style=\"white-space:pre;overflow-x:auto;line-height:normal;font-family:Menlo,'DejaVu Sans Mono',consolas,'Courier New',monospace\"><span style=\"font-weight: bold\"> Trainable params: </span><span style=\"color: #00af00; text-decoration-color: #00af00\">50,851</span> (198.64 KB)\n",
       "</pre>\n"
      ],
      "text/plain": [
       "\u001b[1m Trainable params: \u001b[0m\u001b[38;5;34m50,851\u001b[0m (198.64 KB)\n"
      ]
     },
     "metadata": {},
     "output_type": "display_data"
    },
    {
     "data": {
      "text/html": [
       "<pre style=\"white-space:pre;overflow-x:auto;line-height:normal;font-family:Menlo,'DejaVu Sans Mono',consolas,'Courier New',monospace\"><span style=\"font-weight: bold\"> Non-trainable params: </span><span style=\"color: #00af00; text-decoration-color: #00af00\">0</span> (0.00 B)\n",
       "</pre>\n"
      ],
      "text/plain": [
       "\u001b[1m Non-trainable params: \u001b[0m\u001b[38;5;34m0\u001b[0m (0.00 B)\n"
      ]
     },
     "metadata": {},
     "output_type": "display_data"
    }
   ],
   "source": [
    "model.summary()"
   ]
  },
  {
   "cell_type": "markdown",
   "metadata": {},
   "source": [
    "-------------------------------------------------------------------------------------------------------------------------------"
   ]
  },
  {
   "cell_type": "markdown",
   "metadata": {
    "id": "I087a0yGMHwC"
   },
   "source": [
    "**Training and testing the model**"
   ]
  },
  {
   "cell_type": "code",
   "execution_count": 150,
   "metadata": {
    "id": "M4qfSdoiMHwC"
   },
   "outputs": [
    {
     "name": "stdout",
     "output_type": "stream",
     "text": [
      "Epoch 1/10\n",
      "\u001b[1m11/11\u001b[0m \u001b[32m━━━━━━━━━━━━━━━━━━━━\u001b[0m\u001b[37m\u001b[0m \u001b[1m10s\u001b[0m 308ms/step - loss: 0.0711 - val_loss: 0.0456\n",
      "Epoch 2/10\n",
      "\u001b[1m11/11\u001b[0m \u001b[32m━━━━━━━━━━━━━━━━━━━━\u001b[0m\u001b[37m\u001b[0m \u001b[1m2s\u001b[0m 209ms/step - loss: 0.0114 - val_loss: 0.0051\n",
      "Epoch 3/10\n",
      "\u001b[1m11/11\u001b[0m \u001b[32m━━━━━━━━━━━━━━━━━━━━\u001b[0m\u001b[37m\u001b[0m \u001b[1m2s\u001b[0m 215ms/step - loss: 0.0050 - val_loss: 0.0051\n",
      "Epoch 4/10\n",
      "\u001b[1m11/11\u001b[0m \u001b[32m━━━━━━━━━━━━━━━━━━━━\u001b[0m\u001b[37m\u001b[0m \u001b[1m2s\u001b[0m 217ms/step - loss: 0.0018 - val_loss: 0.0034\n",
      "Epoch 5/10\n",
      "\u001b[1m11/11\u001b[0m \u001b[32m━━━━━━━━━━━━━━━━━━━━\u001b[0m\u001b[37m\u001b[0m \u001b[1m2s\u001b[0m 216ms/step - loss: 0.0016 - val_loss: 0.0025\n",
      "Epoch 6/10\n",
      "\u001b[1m11/11\u001b[0m \u001b[32m━━━━━━━━━━━━━━━━━━━━\u001b[0m\u001b[37m\u001b[0m \u001b[1m2s\u001b[0m 210ms/step - loss: 0.0013 - val_loss: 0.0025\n",
      "Epoch 7/10\n",
      "\u001b[1m11/11\u001b[0m \u001b[32m━━━━━━━━━━━━━━━━━━━━\u001b[0m\u001b[37m\u001b[0m \u001b[1m2s\u001b[0m 212ms/step - loss: 0.0013 - val_loss: 0.0025\n",
      "Epoch 8/10\n",
      "\u001b[1m11/11\u001b[0m \u001b[32m━━━━━━━━━━━━━━━━━━━━\u001b[0m\u001b[37m\u001b[0m \u001b[1m2s\u001b[0m 218ms/step - loss: 0.0013 - val_loss: 0.0024\n",
      "Epoch 9/10\n",
      "\u001b[1m11/11\u001b[0m \u001b[32m━━━━━━━━━━━━━━━━━━━━\u001b[0m\u001b[37m\u001b[0m \u001b[1m2s\u001b[0m 215ms/step - loss: 0.0014 - val_loss: 0.0024\n",
      "Epoch 10/10\n",
      "\u001b[1m11/11\u001b[0m \u001b[32m━━━━━━━━━━━━━━━━━━━━\u001b[0m\u001b[37m\u001b[0m \u001b[1m2s\u001b[0m 214ms/step - loss: 0.0011 - val_loss: 0.0023\n"
     ]
    },
    {
     "data": {
      "text/plain": [
       "<keras.src.callbacks.history.History at 0x1c68b71efe0>"
      ]
     },
     "execution_count": 150,
     "metadata": {},
     "output_type": "execute_result"
    }
   ],
   "source": [
    "model.fit(X_train,y_train,validation_data=(X_test,ytest),epochs=10,batch_size=64,verbose=1)"
   ]
  },
  {
   "cell_type": "code",
   "execution_count": 151,
   "metadata": {
    "id": "CNhzl9XnMHwC"
   },
   "outputs": [],
   "source": [
    "import tensorflow as tf"
   ]
  },
  {
   "cell_type": "code",
   "execution_count": 152,
   "metadata": {
    "colab": {
     "base_uri": "https://localhost:8080/",
     "height": 141
    },
    "id": "s0X5UesgMHwC",
    "outputId": "8df92227-a3fc-4df4-94a0-22e4d52f43d3"
   },
   "outputs": [
    {
     "data": {
      "text/plain": [
       "'2.16.1'"
      ]
     },
     "execution_count": 152,
     "metadata": {},
     "output_type": "execute_result"
    }
   ],
   "source": [
    "tf.__version__"
   ]
  },
  {
   "cell_type": "code",
   "execution_count": 153,
   "metadata": {
    "id": "WVm60QYJMHwC"
   },
   "outputs": [
    {
     "name": "stdout",
     "output_type": "stream",
     "text": [
      "\u001b[1m22/22\u001b[0m \u001b[32m━━━━━━━━━━━━━━━━━━━━\u001b[0m\u001b[37m\u001b[0m \u001b[1m2s\u001b[0m 83ms/step\n",
      "\u001b[1m10/10\u001b[0m \u001b[32m━━━━━━━━━━━━━━━━━━━━\u001b[0m\u001b[37m\u001b[0m \u001b[1m1s\u001b[0m 51ms/step\n"
     ]
    }
   ],
   "source": [
    "### Lets Do the prediction and check performance metrics\n",
    "train_predict=model.predict(X_train)\n",
    "test_predict=model.predict(X_test)"
   ]
  },
  {
   "cell_type": "code",
   "execution_count": 154,
   "metadata": {
    "colab": {
     "base_uri": "https://localhost:8080/",
     "height": 176
    },
    "id": "kc7lEYVGMHwC",
    "outputId": "29459c65-68f0-4103-ebbd-802cc9863117"
   },
   "outputs": [],
   "source": [
    "##Transformback to original form\n",
    "train_predict=scaler.inverse_transform(train_predict)\n",
    "test_predict=scaler.inverse_transform(test_predict)"
   ]
  },
  {
   "cell_type": "code",
   "execution_count": 155,
   "metadata": {
    "id": "x-xqTCB8MHwC"
   },
   "outputs": [
    {
     "data": {
      "text/plain": [
       "108.68561425762088"
      ]
     },
     "execution_count": 155,
     "metadata": {},
     "output_type": "execute_result"
    }
   ],
   "source": [
    "### Calculate RMSE performance metrics\n",
    "import math\n",
    "from sklearn.metrics import mean_squared_error,mean_absolute_error\n",
    "math.sqrt(mean_squared_error(y_train,train_predict))"
   ]
  },
  {
   "cell_type": "code",
   "execution_count": 156,
   "metadata": {
    "id": "rTiysU3PMHwC"
   },
   "outputs": [
    {
     "data": {
      "text/plain": [
       "158.31699144942678"
      ]
     },
     "execution_count": 156,
     "metadata": {},
     "output_type": "execute_result"
    }
   ],
   "source": [
    "### Test Data RMSE\n",
    "math.sqrt(mean_squared_error(ytest,test_predict))"
   ]
  },
  {
   "cell_type": "code",
   "execution_count": 157,
   "metadata": {
    "id": "mpu_qX6sMHwD"
   },
   "outputs": [
    {
     "data": {
      "image/png": "[encoded data removed]",
      "text/plain": [
       "<Figure size 640x480 with 1 Axes>"
      ]
     },
     "metadata": {},
     "output_type": "display_data"
    }
   ],
   "source": [
    "### Plotting\n",
    "# shift train predictions for plotting\n",
    "look_back=100\n",
    "trainPredictPlot = numpy.empty_like(df1)\n",
    "trainPredictPlot[:, :] = np.nan\n",
    "trainPredictPlot[look_back:len(train_predict)+look_back, :] = train_predict\n",
    "# shift test predictions for plotting\n",
    "testPredictPlot = numpy.empty_like(df1)\n",
    "testPredictPlot[:, :] = numpy.nan\n",
    "testPredictPlot[len(train_predict)+(look_back*2)+1:len(df1)-1, :] = test_predict\n",
    "# plot baseline and predictions\n",
    "plt.plot(scaler.inverse_transform(df1))\n",
    "plt.plot(trainPredictPlot,label='trainPredict')\n",
    "plt.plot(testPredictPlot,label='testPredict')\n",
    "plt.legend()\n",
    "plt.show()"
   ]
  },
  {
   "cell_type": "code",
   "execution_count": 158,
   "metadata": {
    "colab": {
     "base_uri": "https://localhost:8080/",
     "height": 141
    },
    "id": "YNPMTt5TMHwD",
    "outputId": "3e31d66f-a16d-4b59-ec48-0fb81ee90f86"
   },
   "outputs": [
    {
     "data": {
      "text/plain": [
       "418"
      ]
     },
     "execution_count": 158,
     "metadata": {},
     "output_type": "execute_result"
    }
   ],
   "source": [
    "len(test_data)"
   ]
  },
  {
   "cell_type": "markdown",
   "metadata": {},
   "source": [
    "--------------------------------------------------------------------------------------------------------------------------------"
   ]
  },
  {
   "cell_type": "markdown",
   "metadata": {},
   "source": [
    "**Predicting the stock price for nxt 30 days**"
   ]
  },
  {
   "cell_type": "code",
   "execution_count": 159,
   "metadata": {
    "id": "GllmwgiZMHwD"
   },
   "outputs": [
    {
     "data": {
      "text/plain": [
       "(1, 77)"
      ]
     },
     "execution_count": 159,
     "metadata": {},
     "output_type": "execute_result"
    }
   ],
   "source": [
    "x_input=test_data[341:].reshape(1,-1)\n",
    "x_input.shape\n"
   ]
  },
  {
   "cell_type": "code",
   "execution_count": 160,
   "metadata": {
    "colab": {
     "base_uri": "https://localhost:8080/",
     "height": 158
    },
    "id": "6nPZ8CXVMHwE",
    "outputId": "7a8d38f6-edc1-4621-9ae4-ede8ec38bc8f"
   },
   "outputs": [],
   "source": [
    "temp_input=list(x_input)\n",
    "temp_input=temp_input[0].tolist()"
   ]
  },
  {
   "cell_type": "code",
   "execution_count": 161,
   "metadata": {
    "colab": {
     "base_uri": "https://localhost:8080/",
     "height": 141
    },
    "id": "O0AjzKS5MHwE",
    "outputId": "bb2104eb-1f4c-4aa4-f43a-a99006d29d5a"
   },
   "outputs": [
    {
     "data": {
      "text/plain": [
       "[0.8676838860225016,\n",
       " 0.8617174962904244,\n",
       " 0.8453100503798276,\n",
       " 0.847050222266285,\n",
       " 0.8541974637857701,\n",
       " 0.8693618525345934,\n",
       " 0.8809838599396247,\n",
       " 0.8806730940954455,\n",
       " 0.8983235101585996,\n",
       " 0.9036683682023181,\n",
       " 0.8951539260149204,\n",
       " 0.8928544278144699,\n",
       " 0.8842156556726133,\n",
       " 0.9013067516367181,\n",
       " 0.9037305797916275,\n",
       " 0.9213187842654724,\n",
       " 0.9183356422264577,\n",
       " 0.9223132001631598,\n",
       " 0.9351159723463831,\n",
       " 0.9283417020454425,\n",
       " 0.9289010283594359,\n",
       " 0.9223754117524692,\n",
       " 0.9412687979681809,\n",
       " 0.9392799723877499,\n",
       " 0.930516969730538,\n",
       " 0.947856626164457,\n",
       " 0.9552524219388121,\n",
       " 0.9573654780345984,\n",
       " 0.9845869637721469,\n",
       " 0.9752024356415205,\n",
       " 0.9681795178615504,\n",
       " 0.971162666115509,\n",
       " 0.9641397483355387,\n",
       " 0.9512748640021098,\n",
       " 0.9479809499039717,\n",
       " 0.9584842176718007,\n",
       " 0.9632696561773662,\n",
       " 0.964201953709904,\n",
       " 0.9847112875116619,\n",
       " 0.9830953461405596,\n",
       " 0.9916098815521173,\n",
       " 0.9793664356828873,\n",
       " 0.971970633693588,\n",
       " 0.9770047258931274,\n",
       " 0.9824116960870515,\n",
       " 0.987880877870285,\n",
       " 0.9799257557819365,\n",
       " 0.9961467658028129,\n",
       " 1.0000000000000002,\n",
       " 0.9947794719107406,\n",
       " 0.9759481978452345,\n",
       " 0.9671851019638626,\n",
       " 0.9101319596682951,\n",
       " 0.890617041764225,\n",
       " 0.8965212199069927,\n",
       " 0.8865151538730638,\n",
       " 0.8851478599809914,\n",
       " 0.8840291203437891,\n",
       " 0.8944081638112067,\n",
       " 0.8819160642480028,\n",
       " 0.8764469756889293,\n",
       " 0.8604745261378668,\n",
       " 0.8635198797661909,\n",
       " 0.8719099982140739,\n",
       " 0.8805487703559305,\n",
       " 0.9047248962502112,\n",
       " 0.8752661239015214,\n",
       " 0.8891254241326376,\n",
       " 0.8989450418469582,\n",
       " 0.9233697282110529,\n",
       " 0.9453084742700326,\n",
       " 0.946675768162105,\n",
       " 0.9565576036806789,\n",
       " 0.9580491280881063,\n",
       " 0.9158497019213425,\n",
       " 0.8825997143015112,\n",
       " 0.8864529484986983]"
      ]
     },
     "execution_count": 161,
     "metadata": {},
     "output_type": "execute_result"
    }
   ],
   "source": [
    "temp_input"
   ]
  },
  {
   "cell_type": "code",
   "execution_count": null,
   "metadata": {},
   "outputs": [],
   "source": []
  },
  {
   "cell_type": "code",
   "execution_count": 162,
   "metadata": {
    "id": "SM7evk80MHwE"
   },
   "outputs": [
    {
     "name": "stdout",
     "output_type": "stream",
     "text": [
      "[0.8972957]\n",
      "78\n",
      "[0.8987118]\n",
      "79\n",
      "[0.8996778]\n",
      "80\n",
      "[0.9002356]\n",
      "81\n",
      "[0.9004485]\n",
      "82\n",
      "[0.90038544]\n",
      "83\n",
      "[0.90011233]\n",
      "84\n",
      "[0.89968675]\n",
      "85\n",
      "[0.8991567]\n",
      "86\n",
      "[0.89855903]\n",
      "87\n",
      "[0.89792156]\n",
      "88\n",
      "[0.89726454]\n",
      "89\n",
      "[0.8966013]\n",
      "90\n",
      "[0.8959409]\n",
      "91\n",
      "[0.89528847]\n",
      "92\n",
      "[0.89464676]\n",
      "93\n",
      "[0.89401674]\n",
      "94\n",
      "[0.8933989]\n",
      "95\n",
      "[0.8927927]\n",
      "96\n",
      "[0.89219743]\n",
      "97\n",
      "[0.89161193]\n",
      "98\n",
      "[0.8910359]\n",
      "99\n",
      "[0.8904683]\n",
      "100\n",
      "[0.8899089]\n",
      "101\n",
      "24 day input [0.8617175  0.84531005 0.84705022 0.85419746 0.86936185 0.88098386\n",
      " 0.88067309 0.89832351 0.90366837 0.89515393 0.89285443 0.88421566\n",
      " 0.90130675 0.90373058 0.92131878 0.91833564 0.9223132  0.93511597\n",
      " 0.9283417  0.92890103 0.92237541 0.9412688  0.93927997 0.93051697\n",
      " 0.94785663 0.95525242 0.95736548 0.98458696 0.97520244 0.96817952\n",
      " 0.97116267 0.96413975 0.95127486 0.94798095 0.95848422 0.96326966\n",
      " 0.96420195 0.98471129 0.98309535 0.99160988 0.97936644 0.97197063\n",
      " 0.97700473 0.9824117  0.98788088 0.97992576 0.99614677 1.\n",
      " 0.99477947 0.9759482  0.9671851  0.91013196 0.89061704 0.89652122\n",
      " 0.88651515 0.88514786 0.88402912 0.89440816 0.88191606 0.87644698\n",
      " 0.86047453 0.86351988 0.87191    0.88054877 0.9047249  0.87526612\n",
      " 0.88912542 0.89894504 0.92336973 0.94530847 0.94667577 0.9565576\n",
      " 0.95804913 0.9158497  0.88259971 0.88645295 0.89729571 0.8987118\n",
      " 0.89967781 0.90023559 0.9004485  0.90038544 0.90011233 0.89968675\n",
      " 0.89915669 0.89855903 0.89792156 0.89726454 0.89660132 0.8959409\n",
      " 0.89528847 0.89464676 0.89401674 0.89339888 0.8927927  0.89219743\n",
      " 0.89161193 0.89103591 0.8904683  0.88990891]\n",
      "24 day output [[0.8893566]]\n",
      "25 day input [0.84531005 0.84705022 0.85419746 0.86936185 0.88098386 0.88067309\n",
      " 0.89832351 0.90366837 0.89515393 0.89285443 0.88421566 0.90130675\n",
      " 0.90373058 0.92131878 0.91833564 0.9223132  0.93511597 0.9283417\n",
      " 0.92890103 0.92237541 0.9412688  0.93927997 0.93051697 0.94785663\n",
      " 0.95525242 0.95736548 0.98458696 0.97520244 0.96817952 0.97116267\n",
      " 0.96413975 0.95127486 0.94798095 0.95848422 0.96326966 0.96420195\n",
      " 0.98471129 0.98309535 0.99160988 0.97936644 0.97197063 0.97700473\n",
      " 0.9824117  0.98788088 0.97992576 0.99614677 1.         0.99477947\n",
      " 0.9759482  0.9671851  0.91013196 0.89061704 0.89652122 0.88651515\n",
      " 0.88514786 0.88402912 0.89440816 0.88191606 0.87644698 0.86047453\n",
      " 0.86351988 0.87191    0.88054877 0.9047249  0.87526612 0.88912542\n",
      " 0.89894504 0.92336973 0.94530847 0.94667577 0.9565576  0.95804913\n",
      " 0.9158497  0.88259971 0.88645295 0.89729571 0.8987118  0.89967781\n",
      " 0.90023559 0.9004485  0.90038544 0.90011233 0.89968675 0.89915669\n",
      " 0.89855903 0.89792156 0.89726454 0.89660132 0.8959409  0.89528847\n",
      " 0.89464676 0.89401674 0.89339888 0.8927927  0.89219743 0.89161193\n",
      " 0.89103591 0.8904683  0.88990891 0.88935661]\n",
      "25 day output [[0.8888115]]\n",
      "26 day input [0.84705022 0.85419746 0.86936185 0.88098386 0.88067309 0.89832351\n",
      " 0.90366837 0.89515393 0.89285443 0.88421566 0.90130675 0.90373058\n",
      " 0.92131878 0.91833564 0.9223132  0.93511597 0.9283417  0.92890103\n",
      " 0.92237541 0.9412688  0.93927997 0.93051697 0.94785663 0.95525242\n",
      " 0.95736548 0.98458696 0.97520244 0.96817952 0.97116267 0.96413975\n",
      " 0.95127486 0.94798095 0.95848422 0.96326966 0.96420195 0.98471129\n",
      " 0.98309535 0.99160988 0.97936644 0.97197063 0.97700473 0.9824117\n",
      " 0.98788088 0.97992576 0.99614677 1.         0.99477947 0.9759482\n",
      " 0.9671851  0.91013196 0.89061704 0.89652122 0.88651515 0.88514786\n",
      " 0.88402912 0.89440816 0.88191606 0.87644698 0.86047453 0.86351988\n",
      " 0.87191    0.88054877 0.9047249  0.87526612 0.88912542 0.89894504\n",
      " 0.92336973 0.94530847 0.94667577 0.9565576  0.95804913 0.9158497\n",
      " 0.88259971 0.88645295 0.89729571 0.8987118  0.89967781 0.90023559\n",
      " 0.9004485  0.90038544 0.90011233 0.89968675 0.89915669 0.89855903\n",
      " 0.89792156 0.89726454 0.89660132 0.8959409  0.89528847 0.89464676\n",
      " 0.89401674 0.89339888 0.8927927  0.89219743 0.89161193 0.89103591\n",
      " 0.8904683  0.88990891 0.88935661 0.88881153]\n",
      "26 day output [[0.88827324]]\n",
      "27 day input [0.85419746 0.86936185 0.88098386 0.88067309 0.89832351 0.90366837\n",
      " 0.89515393 0.89285443 0.88421566 0.90130675 0.90373058 0.92131878\n",
      " 0.91833564 0.9223132  0.93511597 0.9283417  0.92890103 0.92237541\n",
      " 0.9412688  0.93927997 0.93051697 0.94785663 0.95525242 0.95736548\n",
      " 0.98458696 0.97520244 0.96817952 0.97116267 0.96413975 0.95127486\n",
      " 0.94798095 0.95848422 0.96326966 0.96420195 0.98471129 0.98309535\n",
      " 0.99160988 0.97936644 0.97197063 0.97700473 0.9824117  0.98788088\n",
      " 0.97992576 0.99614677 1.         0.99477947 0.9759482  0.9671851\n",
      " 0.91013196 0.89061704 0.89652122 0.88651515 0.88514786 0.88402912\n",
      " 0.89440816 0.88191606 0.87644698 0.86047453 0.86351988 0.87191\n",
      " 0.88054877 0.9047249  0.87526612 0.88912542 0.89894504 0.92336973\n",
      " 0.94530847 0.94667577 0.9565576  0.95804913 0.9158497  0.88259971\n",
      " 0.88645295 0.89729571 0.8987118  0.89967781 0.90023559 0.9004485\n",
      " 0.90038544 0.90011233 0.89968675 0.89915669 0.89855903 0.89792156\n",
      " 0.89726454 0.89660132 0.8959409  0.89528847 0.89464676 0.89401674\n",
      " 0.89339888 0.8927927  0.89219743 0.89161193 0.89103591 0.8904683\n",
      " 0.88990891 0.88935661 0.88881153 0.88827324]\n",
      "27 day output [[0.88774115]]\n",
      "28 day input [0.86936185 0.88098386 0.88067309 0.89832351 0.90366837 0.89515393\n",
      " 0.89285443 0.88421566 0.90130675 0.90373058 0.92131878 0.91833564\n",
      " 0.9223132  0.93511597 0.9283417  0.92890103 0.92237541 0.9412688\n",
      " 0.93927997 0.93051697 0.94785663 0.95525242 0.95736548 0.98458696\n",
      " 0.97520244 0.96817952 0.97116267 0.96413975 0.95127486 0.94798095\n",
      " 0.95848422 0.96326966 0.96420195 0.98471129 0.98309535 0.99160988\n",
      " 0.97936644 0.97197063 0.97700473 0.9824117  0.98788088 0.97992576\n",
      " 0.99614677 1.         0.99477947 0.9759482  0.9671851  0.91013196\n",
      " 0.89061704 0.89652122 0.88651515 0.88514786 0.88402912 0.89440816\n",
      " 0.88191606 0.87644698 0.86047453 0.86351988 0.87191    0.88054877\n",
      " 0.9047249  0.87526612 0.88912542 0.89894504 0.92336973 0.94530847\n",
      " 0.94667577 0.9565576  0.95804913 0.9158497  0.88259971 0.88645295\n",
      " 0.89729571 0.8987118  0.89967781 0.90023559 0.9004485  0.90038544\n",
      " 0.90011233 0.89968675 0.89915669 0.89855903 0.89792156 0.89726454\n",
      " 0.89660132 0.8959409  0.89528847 0.89464676 0.89401674 0.89339888\n",
      " 0.8927927  0.89219743 0.89161193 0.89103591 0.8904683  0.88990891\n",
      " 0.88935661 0.88881153 0.88827324 0.88774115]\n",
      "28 day output [[0.88721585]]\n",
      "29 day input [0.88098386 0.88067309 0.89832351 0.90366837 0.89515393 0.89285443\n",
      " 0.88421566 0.90130675 0.90373058 0.92131878 0.91833564 0.9223132\n",
      " 0.93511597 0.9283417  0.92890103 0.92237541 0.9412688  0.93927997\n",
      " 0.93051697 0.94785663 0.95525242 0.95736548 0.98458696 0.97520244\n",
      " 0.96817952 0.97116267 0.96413975 0.95127486 0.94798095 0.95848422\n",
      " 0.96326966 0.96420195 0.98471129 0.98309535 0.99160988 0.97936644\n",
      " 0.97197063 0.97700473 0.9824117  0.98788088 0.97992576 0.99614677\n",
      " 1.         0.99477947 0.9759482  0.9671851  0.91013196 0.89061704\n",
      " 0.89652122 0.88651515 0.88514786 0.88402912 0.89440816 0.88191606\n",
      " 0.87644698 0.86047453 0.86351988 0.87191    0.88054877 0.9047249\n",
      " 0.87526612 0.88912542 0.89894504 0.92336973 0.94530847 0.94667577\n",
      " 0.9565576  0.95804913 0.9158497  0.88259971 0.88645295 0.89729571\n",
      " 0.8987118  0.89967781 0.90023559 0.9004485  0.90038544 0.90011233\n",
      " 0.89968675 0.89915669 0.89855903 0.89792156 0.89726454 0.89660132\n",
      " 0.8959409  0.89528847 0.89464676 0.89401674 0.89339888 0.8927927\n",
      " 0.89219743 0.89161193 0.89103591 0.8904683  0.88990891 0.88935661\n",
      " 0.88881153 0.88827324 0.88774115 0.88721585]\n",
      "29 day output [[0.8866964]]\n",
      "[[0.8972957134246826], [0.8987118005752563], [0.8996778130531311], [0.9002355933189392], [0.9004485011100769], [0.9003854393959045], [0.9001123309135437], [0.8996867537498474], [0.8991566896438599], [0.898559033870697], [0.8979215621948242], [0.8972645401954651], [0.8966013193130493], [0.895940899848938], [0.8952884674072266], [0.8946467638015747], [0.8940167427062988], [0.8933988809585571], [0.8927927017211914], [0.8921974301338196], [0.8916119337081909], [0.8910359144210815], [0.8904682993888855], [0.8899089097976685], [0.8893566131591797], [0.8888115286827087], [0.8882732391357422], [0.8877411484718323], [0.8872158527374268], [0.8866963982582092]]\n"
     ]
    }
   ],
   "source": [
    "from numpy import array\n",
    "\n",
    "lst_output = []\n",
    "n_steps = 100\n",
    "i = 0\n",
    "while i < 30:\n",
    "\n",
    "    if len(temp_input) > 100:\n",
    "        x_input = array(temp_input[1:])\n",
    "        print(\"{} day input {}\".format(i, x_input))\n",
    "        x_input = x_input.reshape((1, n_steps, 1))\n",
    "        yhat = model.predict(x_input, verbose=0)\n",
    "        print(\"{} day output {}\".format(i, yhat))\n",
    "        temp_input.extend(yhat[0].tolist())\n",
    "        temp_input = temp_input[1:]\n",
    "        lst_output.extend(yhat.tolist())\n",
    "        i += 1\n",
    "    else:\n",
    "        x_input = array(temp_input)\n",
    "        x_input = x_input.reshape((1, len(temp_input), -1))\n",
    "        yhat = model.predict(x_input, verbose=0)\n",
    "        print(yhat[0])\n",
    "        temp_input.extend(yhat[0].tolist())\n",
    "        print(len(temp_input))\n",
    "        lst_output.extend(yhat.tolist())\n",
    "        i += 1\n",
    "\n",
    "print(lst_output)\n"
   ]
  },
  {
   "cell_type": "code",
   "execution_count": null,
   "metadata": {},
   "outputs": [],
   "source": []
  },
  {
   "cell_type": "code",
   "execution_count": 163,
   "metadata": {
    "id": "IyNaqen-MHwE"
   },
   "outputs": [],
   "source": [
    "day_new=np.arange(1,101)\n",
    "day_pred=np.arange(101,131)"
   ]
  },
  {
   "cell_type": "code",
   "execution_count": 164,
   "metadata": {
    "id": "TM-OeVhuMHwE"
   },
   "outputs": [],
   "source": [
    "import matplotlib.pyplot as plt"
   ]
  },
  {
   "cell_type": "code",
   "execution_count": 165,
   "metadata": {
    "id": "K9m9k_A-MHwE"
   },
   "outputs": [
    {
     "data": {
      "text/plain": [
       "1192"
      ]
     },
     "execution_count": 165,
     "metadata": {},
     "output_type": "execute_result"
    }
   ],
   "source": [
    "len(df1)"
   ]
  },
  {
   "cell_type": "code",
   "execution_count": 166,
   "metadata": {
    "colab": {
     "base_uri": "https://localhost:8080/",
     "height": 158
    },
    "id": "M5HF7b11MHwE",
    "outputId": "14a7d6a0-d69a-4b4b-e1f6-6a5c9b800669"
   },
   "outputs": [
    {
     "data": {
      "text/plain": [
       "[<matplotlib.lines.Line2D at 0x1c6922065c0>]"
      ]
     },
     "execution_count": 166,
     "metadata": {},
     "output_type": "execute_result"
    },
    {
     "data": {
      "image/png": "[encoded data removed]",
      "text/plain": [
       "<Figure size 640x480 with 1 Axes>"
      ]
     },
     "metadata": {},
     "output_type": "display_data"
    }
   ],
   "source": [
    "plt.plot(day_new,scaler.inverse_transform(df1[1092:]))\n",
    "plt.plot(day_pred,scaler.inverse_transform(lst_output))"
   ]
  },
  {
   "cell_type": "code",
   "execution_count": 167,
   "metadata": {
    "id": "GxmvnoZyMHwE"
   },
   "outputs": [
    {
     "data": {
      "text/plain": [
       "[<matplotlib.lines.Line2D at 0x1c68b4bfee0>]"
      ]
     },
     "execution_count": 167,
     "metadata": {},
     "output_type": "execute_result"
    },
    {
     "data": {
      "image/png": "[encoded data removed]",
      "text/plain": [
       "<Figure size 640x480 with 1 Axes>"
      ]
     },
     "metadata": {},
     "output_type": "display_data"
    }
   ],
   "source": [
    "df3=df1.tolist()\n",
    "df3.extend(lst_output)\n",
    "plt.plot(df3)"
   ]
  },
  {
   "cell_type": "code",
   "execution_count": 168,
   "metadata": {
    "id": "5vf99C9fMHwF"
   },
   "outputs": [],
   "source": [
    "df3=scaler.inverse_transform(df3).tolist()"
   ]
  },
  {
   "cell_type": "code",
   "execution_count": 169,
   "metadata": {
    "id": "gZ4R53BkgxwX"
   },
   "outputs": [
    {
     "data": {
      "text/plain": [
       "[<matplotlib.lines.Line2D at 0x1c692147760>]"
      ]
     },
     "execution_count": 169,
     "metadata": {},
     "output_type": "execute_result"
    },
    {
     "data": {
      "image/png": "[encoded data removed]",
      "text/plain": [
       "<Figure size 640x480 with 1 Axes>"
      ]
     },
     "metadata": {},
     "output_type": "display_data"
    }
   ],
   "source": [
    "plt.plot(df3)\n",
    "plt.plot(df_final)"
   ]
  },
  {
   "cell_type": "code",
   "execution_count": 170,
   "metadata": {
    "id": "ejoJnNwPMHwF"
   },
   "outputs": [
    {
     "data": {
      "text/plain": [
       "[<matplotlib.lines.Line2D at 0x1c692454a90>]"
      ]
     },
     "execution_count": 170,
     "metadata": {},
     "output_type": "execute_result"
    },
    {
     "data": {
      "image/png": "[encoded data removed]",
      "text/plain": [
       "<Figure size 640x480 with 1 Axes>"
      ]
     },
     "metadata": {},
     "output_type": "display_data"
    }
   ],
   "source": [
    "plt.xlim(1100,1250)\n",
    "plt.ylim(165,200)\n",
    "plt.plot(df3)\n",
    "plt.plot(df_final)\n"
   ]
  },
  {
   "cell_type": "code",
   "execution_count": 171,
   "metadata": {
    "colab": {
     "base_uri": "https://localhost:8080/",
     "height": 211
    },
    "id": "terokDwJMHwF",
    "outputId": "3ba5e043-bf42-4e76-8da9-5d1dbdfd5520"
   },
   "outputs": [
    {
     "data": {
      "image/png": "[encoded data removed]",
      "text/plain": [
       "<Figure size 640x480 with 1 Axes>"
      ]
     },
     "metadata": {},
     "output_type": "display_data"
    }
   ],
   "source": [
    "import matplotlib.pyplot as plt\n",
    "\n",
    "# Assuming df3 and df[\"close\"] are two dataframes or arrays that you want to plot\n",
    "\n",
    "plt.plot(df3, label='Data from df3')\n",
    "plt.plot(df[\"Close\"], label='Data from df[\"close\"]')\n",
    "\n",
    "# Add labels and title\n",
    "plt.xlabel('days')\n",
    "plt.ylabel('price')\n",
    "plt.title('Title of the Plot')\n",
    "\n",
    "# Add legend\n",
    "plt.legend()\n",
    "\n",
    "# Show the plot\n",
    "plt.show()\n"
   ]
  },
  {
   "cell_type": "code",
   "execution_count": 172,
   "metadata": {
    "id": "N6ORk-dmyvxW"
   },
   "outputs": [],
   "source": [
    "df4=pd.read_csv(\"C:\\\\Users\\\\ravip\\\\OneDrive\\\\Documents\\\\sem6\\\\EC460-deep learning and neural networks\\\\AAPL prediction.csv\")"
   ]
  },
  {
   "cell_type": "code",
   "execution_count": 173,
   "metadata": {
    "id": "rN8lpwLhzNCu"
   },
   "outputs": [
    {
     "data": {
      "text/html": [
       "<div>\n",
       "<style scoped>\n",
       "    .dataframe tbody tr th:only-of-type {\n",
       "        vertical-align: middle;\n",
       "    }\n",
       "\n",
       "    .dataframe tbody tr th {\n",
       "        vertical-align: top;\n",
       "    }\n",
       "\n",
       "    .dataframe thead th {\n",
       "        text-align: right;\n",
       "    }\n",
       "</style>\n",
       "<table border=\"1\" class=\"dataframe\">\n",
       "  <thead>\n",
       "    <tr style=\"text-align: right;\">\n",
       "      <th></th>\n",
       "      <th>Date</th>\n",
       "      <th>Open</th>\n",
       "      <th>High</th>\n",
       "      <th>Low</th>\n",
       "      <th>Close</th>\n",
       "      <th>Adj Close</th>\n",
       "      <th>Volume</th>\n",
       "    </tr>\n",
       "  </thead>\n",
       "  <tbody>\n",
       "    <tr>\n",
       "      <th>0</th>\n",
       "      <td>2022-11-11</td>\n",
       "      <td>145.820007</td>\n",
       "      <td>150.009995</td>\n",
       "      <td>144.369995</td>\n",
       "      <td>149.699997</td>\n",
       "      <td>148.867905</td>\n",
       "      <td>93979700</td>\n",
       "    </tr>\n",
       "    <tr>\n",
       "      <th>1</th>\n",
       "      <td>2022-11-14</td>\n",
       "      <td>148.970001</td>\n",
       "      <td>150.279999</td>\n",
       "      <td>147.429993</td>\n",
       "      <td>148.279999</td>\n",
       "      <td>147.455780</td>\n",
       "      <td>73374100</td>\n",
       "    </tr>\n",
       "    <tr>\n",
       "      <th>2</th>\n",
       "      <td>2022-11-15</td>\n",
       "      <td>152.220001</td>\n",
       "      <td>153.589996</td>\n",
       "      <td>148.559998</td>\n",
       "      <td>150.039993</td>\n",
       "      <td>149.206009</td>\n",
       "      <td>89868300</td>\n",
       "    </tr>\n",
       "    <tr>\n",
       "      <th>3</th>\n",
       "      <td>2022-11-16</td>\n",
       "      <td>149.130005</td>\n",
       "      <td>149.869995</td>\n",
       "      <td>147.289993</td>\n",
       "      <td>148.789993</td>\n",
       "      <td>147.962952</td>\n",
       "      <td>64218300</td>\n",
       "    </tr>\n",
       "    <tr>\n",
       "      <th>4</th>\n",
       "      <td>2022-11-17</td>\n",
       "      <td>146.429993</td>\n",
       "      <td>151.479996</td>\n",
       "      <td>146.149994</td>\n",
       "      <td>150.720001</td>\n",
       "      <td>149.882233</td>\n",
       "      <td>80389400</td>\n",
       "    </tr>\n",
       "    <tr>\n",
       "      <th>...</th>\n",
       "      <td>...</td>\n",
       "      <td>...</td>\n",
       "      <td>...</td>\n",
       "      <td>...</td>\n",
       "      <td>...</td>\n",
       "      <td>...</td>\n",
       "      <td>...</td>\n",
       "    </tr>\n",
       "    <tr>\n",
       "      <th>246</th>\n",
       "      <td>2023-11-06</td>\n",
       "      <td>176.380005</td>\n",
       "      <td>179.429993</td>\n",
       "      <td>176.210007</td>\n",
       "      <td>179.229996</td>\n",
       "      <td>178.994186</td>\n",
       "      <td>63841300</td>\n",
       "    </tr>\n",
       "    <tr>\n",
       "      <th>247</th>\n",
       "      <td>2023-11-07</td>\n",
       "      <td>179.179993</td>\n",
       "      <td>182.440002</td>\n",
       "      <td>178.970001</td>\n",
       "      <td>181.820007</td>\n",
       "      <td>181.580780</td>\n",
       "      <td>70530000</td>\n",
       "    </tr>\n",
       "    <tr>\n",
       "      <th>248</th>\n",
       "      <td>2023-11-08</td>\n",
       "      <td>182.350006</td>\n",
       "      <td>183.449997</td>\n",
       "      <td>181.589996</td>\n",
       "      <td>182.889999</td>\n",
       "      <td>182.649368</td>\n",
       "      <td>49340300</td>\n",
       "    </tr>\n",
       "    <tr>\n",
       "      <th>249</th>\n",
       "      <td>2023-11-09</td>\n",
       "      <td>182.960007</td>\n",
       "      <td>184.119995</td>\n",
       "      <td>181.809998</td>\n",
       "      <td>182.410004</td>\n",
       "      <td>182.169998</td>\n",
       "      <td>53763500</td>\n",
       "    </tr>\n",
       "    <tr>\n",
       "      <th>250</th>\n",
       "      <td>2023-11-10</td>\n",
       "      <td>183.970001</td>\n",
       "      <td>186.570007</td>\n",
       "      <td>183.529999</td>\n",
       "      <td>186.399994</td>\n",
       "      <td>186.399994</td>\n",
       "      <td>66133400</td>\n",
       "    </tr>\n",
       "  </tbody>\n",
       "</table>\n",
       "<p>251 rows × 7 columns</p>\n",
       "</div>"
      ],
      "text/plain": [
       "           Date        Open        High         Low       Close   Adj Close  \\\n",
       "0    2022-11-11  145.820007  150.009995  144.369995  149.699997  148.867905   \n",
       "1    2022-11-14  148.970001  150.279999  147.429993  148.279999  147.455780   \n",
       "2    2022-11-15  152.220001  153.589996  148.559998  150.039993  149.206009   \n",
       "3    2022-11-16  149.130005  149.869995  147.289993  148.789993  147.962952   \n",
       "4    2022-11-17  146.429993  151.479996  146.149994  150.720001  149.882233   \n",
       "..          ...         ...         ...         ...         ...         ...   \n",
       "246  2023-11-06  176.380005  179.429993  176.210007  179.229996  178.994186   \n",
       "247  2023-11-07  179.179993  182.440002  178.970001  181.820007  181.580780   \n",
       "248  2023-11-08  182.350006  183.449997  181.589996  182.889999  182.649368   \n",
       "249  2023-11-09  182.960007  184.119995  181.809998  182.410004  182.169998   \n",
       "250  2023-11-10  183.970001  186.570007  183.529999  186.399994  186.399994   \n",
       "\n",
       "       Volume  \n",
       "0    93979700  \n",
       "1    73374100  \n",
       "2    89868300  \n",
       "3    64218300  \n",
       "4    80389400  \n",
       "..        ...  \n",
       "246  63841300  \n",
       "247  70530000  \n",
       "248  49340300  \n",
       "249  53763500  \n",
       "250  66133400  \n",
       "\n",
       "[251 rows x 7 columns]"
      ]
     },
     "execution_count": 173,
     "metadata": {},
     "output_type": "execute_result"
    }
   ],
   "source": [
    "df4"
   ]
  },
  {
   "cell_type": "code",
   "execution_count": 174,
   "metadata": {
    "colab": {
     "base_uri": "https://localhost:8080/",
     "height": 141
    },
    "id": "pygsfZmly8Ev",
    "outputId": "dc14da85-4ae0-496c-99fe-c8dd42467a10"
   },
   "outputs": [
    {
     "data": {
      "text/plain": [
       "196    178.610001\n",
       "197    180.190002\n",
       "198    184.119995\n",
       "199    187.649994\n",
       "200    187.869995\n",
       "201    189.460007\n",
       "202    189.699997\n",
       "203    182.910004\n",
       "204    177.559998\n",
       "205    178.179993\n",
       "206    179.360001\n",
       "207    176.300003\n",
       "208    174.210007\n",
       "209    175.740005\n",
       "210    175.009995\n",
       "211    177.970001\n",
       "212    179.070007\n",
       "213    175.490005\n",
       "214    173.929993\n",
       "215    174.789993\n",
       "216    176.080002\n",
       "217    171.960007\n",
       "218    170.429993\n",
       "219    170.690002\n",
       "220    171.210007\n",
       "221    173.750000\n",
       "222    172.399994\n",
       "223    173.660004\n",
       "224    174.910004\n",
       "225    177.490005\n",
       "Name: Close, dtype: float64"
      ]
     },
     "execution_count": 174,
     "metadata": {},
     "output_type": "execute_result"
    }
   ],
   "source": [
    "actual_data=df4[196:226][\"Close\"]\n",
    "actual_data"
   ]
  },
  {
   "cell_type": "code",
   "execution_count": 175,
   "metadata": {
    "id": "LE-n7p5MU1PS"
   },
   "outputs": [
    {
     "data": {
      "text/plain": [
       "[[178.17999299999997],\n",
       " [179.92462094013212],\n",
       " [180.15247289721296],\n",
       " [180.30790671607016],\n",
       " [180.3976549530582],\n",
       " [180.4319123480701],\n",
       " [180.42176556085775],\n",
       " [180.37782172436712],\n",
       " [180.30934529648778],\n",
       " [180.22405665879438],\n",
       " [180.12789235314366],\n",
       " [180.02532156936644],\n",
       " [179.91960508974265],\n",
       " [179.8128911943626],\n",
       " [179.70662805418013],\n",
       " [179.60165004583737],\n",
       " [179.4983983339958],\n",
       " [179.39702636723325],\n",
       " [179.29761086983868],\n",
       " [179.20007511752317],\n",
       " [179.10429443331716],\n",
       " [179.01008659703444],\n",
       " [178.9174036559944],\n",
       " [178.82607298054694],\n",
       " [178.7360657990837],\n",
       " [178.64719989141844],\n",
       " [178.5594944386234],\n",
       " [178.4728823069458],\n",
       " [178.38726759102437],\n",
       " [178.30274619622037]]"
      ]
     },
     "execution_count": 175,
     "metadata": {},
     "output_type": "execute_result"
    }
   ],
   "source": [
    "predicted_data=df3[-31:-1]\n",
    "predicted_data"
   ]
  },
  {
   "cell_type": "markdown",
   "metadata": {},
   "source": [
    "--------------------------------------------------------------------------------------------------------------------------------"
   ]
  },
  {
   "cell_type": "markdown",
   "metadata": {},
   "source": [
    "**Checking the errors and difference between predicted and Actual values of Stock**"
   ]
  },
  {
   "cell_type": "code",
   "execution_count": 176,
   "metadata": {
    "id": "MtDmo4jnVb25"
   },
   "outputs": [
    {
     "name": "stdout",
     "output_type": "stream",
     "text": [
      "MSE is  27.170851042\n",
      "RMSE is  5.212566646\n",
      "MAE is  4.473661423\n"
     ]
    }
   ],
   "source": [
    "mse=mean_squared_error(actual_data,predicted_data)\n",
    "mae=mean_absolute_error(actual_data,predicted_data)\n",
    "rmse=math.sqrt(mse)\n",
    "print(\"MSE is {: .9f}\" .format(mse))\n",
    "print(\"RMSE is {: .9f}\" .format(rmse))\n",
    "print(\"MAE is {: .9f}\" .format(mae))"
   ]
  },
  {
   "cell_type": "code",
   "execution_count": null,
   "metadata": {},
   "outputs": [],
   "source": []
  }
 ],
 "metadata": {
  "colab": {
   "provenance": []
  },
  "kernelspec": {
   "display_name": "Python 3 (ipykernel)",
   "language": "python",
   "name": "python3"
  },
  "language_info": {
   "codemirror_mode": {
    "name": "ipython",
    "version": 3
   },
   "file_extension": ".py",
   "mimetype": "text/x-python",
   "name": "python",
   "nbconvert_exporter": "python",
   "pygments_lexer": "ipython3",
   "version": "3.10.10"
  }
 },
 "nbformat": 4,
 "nbformat_minor": 1
}
